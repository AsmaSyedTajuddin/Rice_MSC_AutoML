{
 "cells": [
  {
   "cell_type": "code",
   "execution_count": 1,
   "id": "eb942f98",
   "metadata": {
    "_cell_guid": "b1076dfc-b9ad-4769-8c92-a6c4dae69d19",
    "_uuid": "8f2839f25d086af736a60e9eeb907d3b93b6e0e5",
    "execution": {
     "iopub.execute_input": "2022-05-09T06:08:24.443982Z",
     "iopub.status.busy": "2022-05-09T06:08:24.443326Z",
     "iopub.status.idle": "2022-05-09T06:08:24.468449Z",
     "shell.execute_reply": "2022-05-09T06:08:24.467737Z"
    },
    "papermill": {
     "duration": 0.042433,
     "end_time": "2022-05-09T06:08:24.470599",
     "exception": false,
     "start_time": "2022-05-09T06:08:24.428166",
     "status": "completed"
    },
    "tags": []
   },
   "outputs": [
    {
     "name": "stdout",
     "output_type": "stream",
     "text": [
      "/kaggle/input/rice-msc-dataset/Rice_MSC_Dataset/Rice_Citation_Request.txt\n",
      "/kaggle/input/rice-msc-dataset/Rice_MSC_Dataset/Rice_MSC_Dataset.arff\n",
      "/kaggle/input/rice-msc-dataset/Rice_MSC_Dataset/Rice_MSC_Dataset.xlsx\n"
     ]
    }
   ],
   "source": [
    "# This Python 3 environment comes with many helpful analytics libraries installed\n",
    "# It is defined by the kaggle/python Docker image: https://github.com/kaggle/docker-python\n",
    "# For example, here's several helpful packages to load\n",
    "\n",
    "import numpy as np # linear algebra\n",
    "import pandas as pd # data processing, CSV file I/O (e.g. pd.read_csv)\n",
    "\n",
    "# Input data files are available in the read-only \"../input/\" directory\n",
    "# For example, running this (by clicking run or pressing Shift+Enter) will list all files under the input directory\n",
    "\n",
    "import os\n",
    "for dirname, _, filenames in os.walk('/kaggle/input'):\n",
    "    for filename in filenames:\n",
    "        print(os.path.join(dirname, filename))\n",
    "\n",
    "# You can write up to 20GB to the current directory (/kaggle/working/) that gets preserved as output when you create a version using \"Save & Run All\" \n",
    "# You can also write temporary files to /kaggle/temp/, but they won't be saved outside of the current session"
   ]
  },
  {
   "cell_type": "code",
   "execution_count": 2,
   "id": "b21b8bd9",
   "metadata": {
    "execution": {
     "iopub.execute_input": "2022-05-09T06:08:24.498065Z",
     "iopub.status.busy": "2022-05-09T06:08:24.497845Z",
     "iopub.status.idle": "2022-05-09T06:09:05.469626Z",
     "shell.execute_reply": "2022-05-09T06:09:05.468820Z"
    },
    "papermill": {
     "duration": 40.987486,
     "end_time": "2022-05-09T06:09:05.471793",
     "exception": false,
     "start_time": "2022-05-09T06:08:24.484307",
     "status": "completed"
    },
    "tags": []
   },
   "outputs": [
    {
     "name": "stdout",
     "output_type": "stream",
     "text": [
      "Collecting flaml\r\n",
      "  Downloading FLAML-1.0.1-py3-none-any.whl (157 kB)\r\n",
      "\u001b[2K     \u001b[90m━━━━━━━━━━━━━━━━━━━━━━━━━━━━━━━━━━━━━━━\u001b[0m \u001b[32m157.6/157.6 KB\u001b[0m \u001b[31m1.1 MB/s\u001b[0m eta \u001b[36m0:00:00\u001b[0m\r\n",
      "\u001b[?25hCollecting xgboost<=1.3.3,>=0.90\r\n",
      "  Downloading xgboost-1.3.3-py3-none-manylinux2010_x86_64.whl (157.5 MB)\r\n",
      "\u001b[2K     \u001b[90m━━━━━━━━━━━━━━━━━━━━━━━━━━━━━━━━━━━━━━━\u001b[0m \u001b[32m157.5/157.5 MB\u001b[0m \u001b[31m7.6 MB/s\u001b[0m eta \u001b[36m0:00:00\u001b[0m\r\n",
      "\u001b[?25hRequirement already satisfied: scipy>=1.4.1 in /opt/conda/lib/python3.7/site-packages (from flaml) (1.7.3)\r\n",
      "Requirement already satisfied: lightgbm>=2.3.1 in /opt/conda/lib/python3.7/site-packages (from flaml) (3.3.1)\r\n",
      "Requirement already satisfied: NumPy>=1.16.2 in /opt/conda/lib/python3.7/site-packages (from flaml) (1.21.6)\r\n",
      "Requirement already satisfied: scikit-learn>=0.24 in /opt/conda/lib/python3.7/site-packages (from flaml) (1.0.2)\r\n",
      "Requirement already satisfied: pandas>=1.1.4 in /opt/conda/lib/python3.7/site-packages (from flaml) (1.3.5)\r\n",
      "Requirement already satisfied: wheel in /opt/conda/lib/python3.7/site-packages (from lightgbm>=2.3.1->flaml) (0.37.1)\r\n",
      "Requirement already satisfied: python-dateutil>=2.7.3 in /opt/conda/lib/python3.7/site-packages (from pandas>=1.1.4->flaml) (2.8.2)\r\n",
      "Requirement already satisfied: pytz>=2017.3 in /opt/conda/lib/python3.7/site-packages (from pandas>=1.1.4->flaml) (2021.3)\r\n",
      "Requirement already satisfied: threadpoolctl>=2.0.0 in /opt/conda/lib/python3.7/site-packages (from scikit-learn>=0.24->flaml) (3.1.0)\r\n",
      "Requirement already satisfied: joblib>=0.11 in /opt/conda/lib/python3.7/site-packages (from scikit-learn>=0.24->flaml) (1.0.1)\r\n",
      "Requirement already satisfied: six>=1.5 in /opt/conda/lib/python3.7/site-packages (from python-dateutil>=2.7.3->pandas>=1.1.4->flaml) (1.16.0)\r\n",
      "Installing collected packages: xgboost, flaml\r\n",
      "  Attempting uninstall: xgboost\r\n",
      "    Found existing installation: xgboost 1.6.0\r\n",
      "    Uninstalling xgboost-1.6.0:\r\n",
      "      Successfully uninstalled xgboost-1.6.0\r\n",
      "Successfully installed flaml-1.0.1 xgboost-1.3.3\r\n",
      "\u001b[33mWARNING: Running pip as the 'root' user can result in broken permissions and conflicting behaviour with the system package manager. It is recommended to use a virtual environment instead: https://pip.pypa.io/warnings/venv\u001b[0m\u001b[33m\r\n",
      "\u001b[0mCollecting openpyxl\r\n",
      "  Downloading openpyxl-3.0.9-py2.py3-none-any.whl (242 kB)\r\n",
      "\u001b[2K     \u001b[90m━━━━━━━━━━━━━━━━━━━━━━━━━━━━━━━━━━━━━━━\u001b[0m \u001b[32m242.2/242.2 KB\u001b[0m \u001b[31m1.5 MB/s\u001b[0m eta \u001b[36m0:00:00\u001b[0m\r\n",
      "\u001b[?25hCollecting et-xmlfile\r\n",
      "  Downloading et_xmlfile-1.1.0-py3-none-any.whl (4.7 kB)\r\n",
      "Installing collected packages: et-xmlfile, openpyxl\r\n",
      "Successfully installed et-xmlfile-1.1.0 openpyxl-3.0.9\r\n",
      "\u001b[33mWARNING: Running pip as the 'root' user can result in broken permissions and conflicting behaviour with the system package manager. It is recommended to use a virtual environment instead: https://pip.pypa.io/warnings/venv\u001b[0m\u001b[33m\r\n",
      "\u001b[0m"
     ]
    },
    {
     "data": {
      "text/html": [
       "<style type='text/css'>\n",
       ".datatable table.frame { margin-bottom: 0; }\n",
       ".datatable table.frame thead { border-bottom: none; }\n",
       ".datatable table.frame tr.coltypes td {  color: #FFFFFF;  line-height: 6px;  padding: 0 0.5em;}\n",
       ".datatable .bool    { background: #DDDD99; }\n",
       ".datatable .object  { background: #565656; }\n",
       ".datatable .int     { background: #5D9E5D; }\n",
       ".datatable .float   { background: #4040CC; }\n",
       ".datatable .str     { background: #CC4040; }\n",
       ".datatable .time    { background: #40CC40; }\n",
       ".datatable .row_index {  background: var(--jp-border-color3);  border-right: 1px solid var(--jp-border-color0);  color: var(--jp-ui-font-color3);  font-size: 9px;}\n",
       ".datatable .frame tbody td { text-align: left; }\n",
       ".datatable .frame tr.coltypes .row_index {  background: var(--jp-border-color0);}\n",
       ".datatable th:nth-child(2) { padding-left: 12px; }\n",
       ".datatable .hellipsis {  color: var(--jp-cell-editor-border-color);}\n",
       ".datatable .vellipsis {  background: var(--jp-layout-color0);  color: var(--jp-cell-editor-border-color);}\n",
       ".datatable .na {  color: var(--jp-cell-editor-border-color);  font-size: 80%;}\n",
       ".datatable .sp {  opacity: 0.25;}\n",
       ".datatable .footer { font-size: 9px; }\n",
       ".datatable .frame_dimensions {  background: var(--jp-border-color3);  border-top: 1px solid var(--jp-border-color0);  color: var(--jp-ui-font-color3);  display: inline-block;  opacity: 0.6;  padding: 1px 10px 1px 5px;}\n",
       "</style>\n"
      ],
      "text/plain": [
       "<IPython.core.display.HTML object>"
      ]
     },
     "metadata": {},
     "output_type": "display_data"
    }
   ],
   "source": [
    "!pip install flaml\n",
    "!pip install openpyxl\n",
    "import pandas as pd\n",
    "import numpy as np\n",
    "import tensorflow as tf\n",
    "from keras.layers import BatchNormalization, Dense, Dropout, Flatten, MaxPool2D, Conv2D\n",
    "from sklearn.model_selection import train_test_split\n",
    "from flaml import AutoML\n",
    "import matplotlib.pyplot as plt"
   ]
  },
  {
   "cell_type": "code",
   "execution_count": 3,
   "id": "d8c62faf",
   "metadata": {
    "execution": {
     "iopub.execute_input": "2022-05-09T06:09:05.565809Z",
     "iopub.status.busy": "2022-05-09T06:09:05.565545Z",
     "iopub.status.idle": "2022-05-09T06:11:18.430243Z",
     "shell.execute_reply": "2022-05-09T06:11:18.429469Z"
    },
    "papermill": {
     "duration": 132.914535,
     "end_time": "2022-05-09T06:11:18.432441",
     "exception": false,
     "start_time": "2022-05-09T06:09:05.517906",
     "status": "completed"
    },
    "tags": []
   },
   "outputs": [],
   "source": [
    "RiceData = pd.read_excel('/kaggle/input/rice-msc-dataset/Rice_MSC_Dataset/Rice_MSC_Dataset.xlsx')\n",
    "RiceData.fillna(0, inplace=True)"
   ]
  },
  {
   "cell_type": "code",
   "execution_count": 4,
   "id": "08653b46",
   "metadata": {
    "execution": {
     "iopub.execute_input": "2022-05-09T06:11:18.522857Z",
     "iopub.status.busy": "2022-05-09T06:11:18.522386Z",
     "iopub.status.idle": "2022-05-09T06:11:18.531407Z",
     "shell.execute_reply": "2022-05-09T06:11:18.530634Z"
    },
    "papermill": {
     "duration": 0.055822,
     "end_time": "2022-05-09T06:11:18.533341",
     "exception": false,
     "start_time": "2022-05-09T06:11:18.477519",
     "status": "completed"
    },
    "tags": []
   },
   "outputs": [
    {
     "data": {
      "text/plain": [
       "{'Arborio': 0, 'Basmati': 1, 'Karacadag': 2, 'Jasmine': 3, 'Ipsala': 4}"
      ]
     },
     "execution_count": 4,
     "metadata": {},
     "output_type": "execute_result"
    }
   ],
   "source": [
    "dictForClasses = {k: v for k, v in zip(list(set(RiceData.iloc[:, -1].tolist())),list(range(len(list(set(RiceData.iloc[:, -1].tolist()))))))}\n",
    "dictForClasses"
   ]
  },
  {
   "cell_type": "code",
   "execution_count": 5,
   "id": "a1d2c5f2",
   "metadata": {
    "execution": {
     "iopub.execute_input": "2022-05-09T06:11:18.624610Z",
     "iopub.status.busy": "2022-05-09T06:11:18.624111Z",
     "iopub.status.idle": "2022-05-09T06:12:23.634179Z",
     "shell.execute_reply": "2022-05-09T06:12:23.633397Z"
    },
    "papermill": {
     "duration": 65.057615,
     "end_time": "2022-05-09T06:12:23.636256",
     "exception": false,
     "start_time": "2022-05-09T06:11:18.578641",
     "status": "completed"
    },
    "tags": []
   },
   "outputs": [],
   "source": [
    "for i in range(75000):\n",
    "    classes = dictForClasses[RiceData.iloc[i, -1]]\n",
    "    RiceData.loc[i, 'CLASS'] = classes"
   ]
  },
  {
   "cell_type": "code",
   "execution_count": 6,
   "id": "bf4174de",
   "metadata": {
    "execution": {
     "iopub.execute_input": "2022-05-09T06:12:23.727153Z",
     "iopub.status.busy": "2022-05-09T06:12:23.726441Z",
     "iopub.status.idle": "2022-05-09T06:12:23.774433Z",
     "shell.execute_reply": "2022-05-09T06:12:23.773749Z"
    },
    "papermill": {
     "duration": 0.095158,
     "end_time": "2022-05-09T06:12:23.776281",
     "exception": false,
     "start_time": "2022-05-09T06:12:23.681123",
     "status": "completed"
    },
    "tags": []
   },
   "outputs": [
    {
     "data": {
      "text/html": [
       "<div>\n",
       "<style scoped>\n",
       "    .dataframe tbody tr th:only-of-type {\n",
       "        vertical-align: middle;\n",
       "    }\n",
       "\n",
       "    .dataframe tbody tr th {\n",
       "        vertical-align: top;\n",
       "    }\n",
       "\n",
       "    .dataframe thead th {\n",
       "        text-align: right;\n",
       "    }\n",
       "</style>\n",
       "<table border=\"1\" class=\"dataframe\">\n",
       "  <thead>\n",
       "    <tr style=\"text-align: right;\">\n",
       "      <th></th>\n",
       "      <th>AREA</th>\n",
       "      <th>PERIMETER</th>\n",
       "      <th>MAJOR_AXIS</th>\n",
       "      <th>MINOR_AXIS</th>\n",
       "      <th>ECCENTRICITY</th>\n",
       "      <th>EQDIASQ</th>\n",
       "      <th>SOLIDITY</th>\n",
       "      <th>CONVEX_AREA</th>\n",
       "      <th>EXTENT</th>\n",
       "      <th>ASPECT_RATIO</th>\n",
       "      <th>...</th>\n",
       "      <th>ALLdaub4L</th>\n",
       "      <th>ALLdaub4a</th>\n",
       "      <th>ALLdaub4b</th>\n",
       "      <th>ALLdaub4Y</th>\n",
       "      <th>ALLdaub4Cb</th>\n",
       "      <th>ALLdaub4Cr</th>\n",
       "      <th>ALLdaub4XX</th>\n",
       "      <th>ALLdaub4YY</th>\n",
       "      <th>ALLdaub4ZZ</th>\n",
       "      <th>CLASS</th>\n",
       "    </tr>\n",
       "  </thead>\n",
       "  <tbody>\n",
       "    <tr>\n",
       "      <th>0</th>\n",
       "      <td>7805</td>\n",
       "      <td>437.915</td>\n",
       "      <td>209.8215</td>\n",
       "      <td>48.0221</td>\n",
       "      <td>0.9735</td>\n",
       "      <td>99.6877</td>\n",
       "      <td>0.9775</td>\n",
       "      <td>7985</td>\n",
       "      <td>0.3547</td>\n",
       "      <td>4.3693</td>\n",
       "      <td>...</td>\n",
       "      <td>113.9924</td>\n",
       "      <td>65.0610</td>\n",
       "      <td>59.5989</td>\n",
       "      <td>104.8552</td>\n",
       "      <td>67.8779</td>\n",
       "      <td>63.0828</td>\n",
       "      <td>0.3673</td>\n",
       "      <td>0.3793</td>\n",
       "      <td>0.4733</td>\n",
       "      <td>1</td>\n",
       "    </tr>\n",
       "    <tr>\n",
       "      <th>1</th>\n",
       "      <td>7503</td>\n",
       "      <td>340.757</td>\n",
       "      <td>138.3361</td>\n",
       "      <td>69.8417</td>\n",
       "      <td>0.8632</td>\n",
       "      <td>97.7400</td>\n",
       "      <td>0.9660</td>\n",
       "      <td>7767</td>\n",
       "      <td>0.6637</td>\n",
       "      <td>1.9807</td>\n",
       "      <td>...</td>\n",
       "      <td>105.7055</td>\n",
       "      <td>64.3685</td>\n",
       "      <td>62.2084</td>\n",
       "      <td>96.8375</td>\n",
       "      <td>65.5371</td>\n",
       "      <td>63.5832</td>\n",
       "      <td>0.3014</td>\n",
       "      <td>0.3144</td>\n",
       "      <td>0.3641</td>\n",
       "      <td>0</td>\n",
       "    </tr>\n",
       "    <tr>\n",
       "      <th>2</th>\n",
       "      <td>5124</td>\n",
       "      <td>314.617</td>\n",
       "      <td>141.9803</td>\n",
       "      <td>46.5784</td>\n",
       "      <td>0.9447</td>\n",
       "      <td>80.7718</td>\n",
       "      <td>0.9721</td>\n",
       "      <td>5271</td>\n",
       "      <td>0.4760</td>\n",
       "      <td>3.0482</td>\n",
       "      <td>...</td>\n",
       "      <td>109.7155</td>\n",
       "      <td>62.6423</td>\n",
       "      <td>58.7439</td>\n",
       "      <td>100.2352</td>\n",
       "      <td>68.9753</td>\n",
       "      <td>59.8342</td>\n",
       "      <td>0.3233</td>\n",
       "      <td>0.3445</td>\n",
       "      <td>0.4448</td>\n",
       "      <td>3</td>\n",
       "    </tr>\n",
       "    <tr>\n",
       "      <th>3</th>\n",
       "      <td>7990</td>\n",
       "      <td>437.085</td>\n",
       "      <td>201.4386</td>\n",
       "      <td>51.2245</td>\n",
       "      <td>0.9671</td>\n",
       "      <td>100.8622</td>\n",
       "      <td>0.9659</td>\n",
       "      <td>8272</td>\n",
       "      <td>0.6274</td>\n",
       "      <td>3.9325</td>\n",
       "      <td>...</td>\n",
       "      <td>116.5405</td>\n",
       "      <td>64.9069</td>\n",
       "      <td>60.2562</td>\n",
       "      <td>107.2560</td>\n",
       "      <td>67.3298</td>\n",
       "      <td>63.2237</td>\n",
       "      <td>0.3880</td>\n",
       "      <td>0.4020</td>\n",
       "      <td>0.4904</td>\n",
       "      <td>1</td>\n",
       "    </tr>\n",
       "    <tr>\n",
       "      <th>4</th>\n",
       "      <td>7433</td>\n",
       "      <td>342.893</td>\n",
       "      <td>140.3350</td>\n",
       "      <td>68.3927</td>\n",
       "      <td>0.8732</td>\n",
       "      <td>97.2830</td>\n",
       "      <td>0.9831</td>\n",
       "      <td>7561</td>\n",
       "      <td>0.6006</td>\n",
       "      <td>2.0519</td>\n",
       "      <td>...</td>\n",
       "      <td>107.7502</td>\n",
       "      <td>64.7071</td>\n",
       "      <td>61.3549</td>\n",
       "      <td>98.8704</td>\n",
       "      <td>66.2048</td>\n",
       "      <td>63.5378</td>\n",
       "      <td>0.3184</td>\n",
       "      <td>0.3303</td>\n",
       "      <td>0.3928</td>\n",
       "      <td>0</td>\n",
       "    </tr>\n",
       "    <tr>\n",
       "      <th>...</th>\n",
       "      <td>...</td>\n",
       "      <td>...</td>\n",
       "      <td>...</td>\n",
       "      <td>...</td>\n",
       "      <td>...</td>\n",
       "      <td>...</td>\n",
       "      <td>...</td>\n",
       "      <td>...</td>\n",
       "      <td>...</td>\n",
       "      <td>...</td>\n",
       "      <td>...</td>\n",
       "      <td>...</td>\n",
       "      <td>...</td>\n",
       "      <td>...</td>\n",
       "      <td>...</td>\n",
       "      <td>...</td>\n",
       "      <td>...</td>\n",
       "      <td>...</td>\n",
       "      <td>...</td>\n",
       "      <td>...</td>\n",
       "      <td>...</td>\n",
       "    </tr>\n",
       "    <tr>\n",
       "      <th>74995</th>\n",
       "      <td>5551</td>\n",
       "      <td>285.911</td>\n",
       "      <td>114.1695</td>\n",
       "      <td>62.9079</td>\n",
       "      <td>0.8345</td>\n",
       "      <td>84.0699</td>\n",
       "      <td>0.9846</td>\n",
       "      <td>5638</td>\n",
       "      <td>0.6418</td>\n",
       "      <td>1.8149</td>\n",
       "      <td>...</td>\n",
       "      <td>103.9529</td>\n",
       "      <td>64.9225</td>\n",
       "      <td>62.4355</td>\n",
       "      <td>95.2780</td>\n",
       "      <td>65.5114</td>\n",
       "      <td>64.4457</td>\n",
       "      <td>0.2895</td>\n",
       "      <td>0.2997</td>\n",
       "      <td>0.3455</td>\n",
       "      <td>0</td>\n",
       "    </tr>\n",
       "    <tr>\n",
       "      <th>74996</th>\n",
       "      <td>7696</td>\n",
       "      <td>322.703</td>\n",
       "      <td>121.3900</td>\n",
       "      <td>81.1375</td>\n",
       "      <td>0.7438</td>\n",
       "      <td>98.9892</td>\n",
       "      <td>0.9868</td>\n",
       "      <td>7799</td>\n",
       "      <td>0.7309</td>\n",
       "      <td>1.4961</td>\n",
       "      <td>...</td>\n",
       "      <td>108.9778</td>\n",
       "      <td>65.4571</td>\n",
       "      <td>59.9502</td>\n",
       "      <td>100.2301</td>\n",
       "      <td>67.5089</td>\n",
       "      <td>63.6028</td>\n",
       "      <td>0.3335</td>\n",
       "      <td>0.3426</td>\n",
       "      <td>0.4257</td>\n",
       "      <td>2</td>\n",
       "    </tr>\n",
       "    <tr>\n",
       "      <th>74997</th>\n",
       "      <td>7579</td>\n",
       "      <td>339.295</td>\n",
       "      <td>136.3125</td>\n",
       "      <td>71.2866</td>\n",
       "      <td>0.8524</td>\n",
       "      <td>98.2338</td>\n",
       "      <td>0.9805</td>\n",
       "      <td>7730</td>\n",
       "      <td>0.6399</td>\n",
       "      <td>1.9122</td>\n",
       "      <td>...</td>\n",
       "      <td>106.0881</td>\n",
       "      <td>64.1869</td>\n",
       "      <td>61.3876</td>\n",
       "      <td>97.1585</td>\n",
       "      <td>66.2445</td>\n",
       "      <td>63.0596</td>\n",
       "      <td>0.3028</td>\n",
       "      <td>0.3164</td>\n",
       "      <td>0.3761</td>\n",
       "      <td>0</td>\n",
       "    </tr>\n",
       "    <tr>\n",
       "      <th>74998</th>\n",
       "      <td>15174</td>\n",
       "      <td>489.502</td>\n",
       "      <td>200.9486</td>\n",
       "      <td>97.6282</td>\n",
       "      <td>0.8740</td>\n",
       "      <td>138.9969</td>\n",
       "      <td>0.9766</td>\n",
       "      <td>15537</td>\n",
       "      <td>0.7903</td>\n",
       "      <td>2.0583</td>\n",
       "      <td>...</td>\n",
       "      <td>119.2037</td>\n",
       "      <td>63.3545</td>\n",
       "      <td>64.8200</td>\n",
       "      <td>109.3027</td>\n",
       "      <td>63.3122</td>\n",
       "      <td>63.5967</td>\n",
       "      <td>0.3970</td>\n",
       "      <td>0.4215</td>\n",
       "      <td>0.4469</td>\n",
       "      <td>4</td>\n",
       "    </tr>\n",
       "    <tr>\n",
       "      <th>74999</th>\n",
       "      <td>12931</td>\n",
       "      <td>452.635</td>\n",
       "      <td>185.5138</td>\n",
       "      <td>90.2651</td>\n",
       "      <td>0.8736</td>\n",
       "      <td>128.3131</td>\n",
       "      <td>0.9760</td>\n",
       "      <td>13249</td>\n",
       "      <td>0.7640</td>\n",
       "      <td>2.0552</td>\n",
       "      <td>...</td>\n",
       "      <td>121.4198</td>\n",
       "      <td>63.5424</td>\n",
       "      <td>65.2355</td>\n",
       "      <td>111.4580</td>\n",
       "      <td>63.0129</td>\n",
       "      <td>63.9117</td>\n",
       "      <td>0.4162</td>\n",
       "      <td>0.4414</td>\n",
       "      <td>0.4626</td>\n",
       "      <td>4</td>\n",
       "    </tr>\n",
       "  </tbody>\n",
       "</table>\n",
       "<p>75000 rows × 107 columns</p>\n",
       "</div>"
      ],
      "text/plain": [
       "        AREA  PERIMETER  MAJOR_AXIS  MINOR_AXIS  ECCENTRICITY   EQDIASQ  \\\n",
       "0       7805    437.915    209.8215     48.0221        0.9735   99.6877   \n",
       "1       7503    340.757    138.3361     69.8417        0.8632   97.7400   \n",
       "2       5124    314.617    141.9803     46.5784        0.9447   80.7718   \n",
       "3       7990    437.085    201.4386     51.2245        0.9671  100.8622   \n",
       "4       7433    342.893    140.3350     68.3927        0.8732   97.2830   \n",
       "...      ...        ...         ...         ...           ...       ...   \n",
       "74995   5551    285.911    114.1695     62.9079        0.8345   84.0699   \n",
       "74996   7696    322.703    121.3900     81.1375        0.7438   98.9892   \n",
       "74997   7579    339.295    136.3125     71.2866        0.8524   98.2338   \n",
       "74998  15174    489.502    200.9486     97.6282        0.8740  138.9969   \n",
       "74999  12931    452.635    185.5138     90.2651        0.8736  128.3131   \n",
       "\n",
       "       SOLIDITY  CONVEX_AREA  EXTENT  ASPECT_RATIO  ...  ALLdaub4L  ALLdaub4a  \\\n",
       "0        0.9775         7985  0.3547        4.3693  ...   113.9924    65.0610   \n",
       "1        0.9660         7767  0.6637        1.9807  ...   105.7055    64.3685   \n",
       "2        0.9721         5271  0.4760        3.0482  ...   109.7155    62.6423   \n",
       "3        0.9659         8272  0.6274        3.9325  ...   116.5405    64.9069   \n",
       "4        0.9831         7561  0.6006        2.0519  ...   107.7502    64.7071   \n",
       "...         ...          ...     ...           ...  ...        ...        ...   \n",
       "74995    0.9846         5638  0.6418        1.8149  ...   103.9529    64.9225   \n",
       "74996    0.9868         7799  0.7309        1.4961  ...   108.9778    65.4571   \n",
       "74997    0.9805         7730  0.6399        1.9122  ...   106.0881    64.1869   \n",
       "74998    0.9766        15537  0.7903        2.0583  ...   119.2037    63.3545   \n",
       "74999    0.9760        13249  0.7640        2.0552  ...   121.4198    63.5424   \n",
       "\n",
       "       ALLdaub4b  ALLdaub4Y  ALLdaub4Cb  ALLdaub4Cr  ALLdaub4XX  ALLdaub4YY  \\\n",
       "0        59.5989   104.8552     67.8779     63.0828      0.3673      0.3793   \n",
       "1        62.2084    96.8375     65.5371     63.5832      0.3014      0.3144   \n",
       "2        58.7439   100.2352     68.9753     59.8342      0.3233      0.3445   \n",
       "3        60.2562   107.2560     67.3298     63.2237      0.3880      0.4020   \n",
       "4        61.3549    98.8704     66.2048     63.5378      0.3184      0.3303   \n",
       "...          ...        ...         ...         ...         ...         ...   \n",
       "74995    62.4355    95.2780     65.5114     64.4457      0.2895      0.2997   \n",
       "74996    59.9502   100.2301     67.5089     63.6028      0.3335      0.3426   \n",
       "74997    61.3876    97.1585     66.2445     63.0596      0.3028      0.3164   \n",
       "74998    64.8200   109.3027     63.3122     63.5967      0.3970      0.4215   \n",
       "74999    65.2355   111.4580     63.0129     63.9117      0.4162      0.4414   \n",
       "\n",
       "       ALLdaub4ZZ  CLASS  \n",
       "0          0.4733      1  \n",
       "1          0.3641      0  \n",
       "2          0.4448      3  \n",
       "3          0.4904      1  \n",
       "4          0.3928      0  \n",
       "...           ...    ...  \n",
       "74995      0.3455      0  \n",
       "74996      0.4257      2  \n",
       "74997      0.3761      0  \n",
       "74998      0.4469      4  \n",
       "74999      0.4626      4  \n",
       "\n",
       "[75000 rows x 107 columns]"
      ]
     },
     "execution_count": 6,
     "metadata": {},
     "output_type": "execute_result"
    }
   ],
   "source": [
    "RiceData"
   ]
  },
  {
   "cell_type": "code",
   "execution_count": 7,
   "id": "e68c12d7",
   "metadata": {
    "execution": {
     "iopub.execute_input": "2022-05-09T06:12:23.868079Z",
     "iopub.status.busy": "2022-05-09T06:12:23.867412Z",
     "iopub.status.idle": "2022-05-09T06:12:23.933100Z",
     "shell.execute_reply": "2022-05-09T06:12:23.932382Z"
    },
    "papermill": {
     "duration": 0.113615,
     "end_time": "2022-05-09T06:12:23.935099",
     "exception": false,
     "start_time": "2022-05-09T06:12:23.821484",
     "status": "completed"
    },
    "tags": []
   },
   "outputs": [],
   "source": [
    "X = np.array(RiceData.iloc[:, 0:106])\n",
    "y = np.asarray(RiceData.iloc[:, -1]).astype('int64')"
   ]
  },
  {
   "cell_type": "code",
   "execution_count": 8,
   "id": "b3a602f4",
   "metadata": {
    "execution": {
     "iopub.execute_input": "2022-05-09T06:12:24.027601Z",
     "iopub.status.busy": "2022-05-09T06:12:24.027361Z",
     "iopub.status.idle": "2022-05-09T06:12:24.032202Z",
     "shell.execute_reply": "2022-05-09T06:12:24.031558Z"
    },
    "papermill": {
     "duration": 0.053305,
     "end_time": "2022-05-09T06:12:24.034066",
     "exception": false,
     "start_time": "2022-05-09T06:12:23.980761",
     "status": "completed"
    },
    "tags": []
   },
   "outputs": [
    {
     "data": {
      "text/plain": [
       "(75000, 106)"
      ]
     },
     "execution_count": 8,
     "metadata": {},
     "output_type": "execute_result"
    }
   ],
   "source": [
    "X.shape"
   ]
  },
  {
   "cell_type": "code",
   "execution_count": 9,
   "id": "2fcf44d8",
   "metadata": {
    "execution": {
     "iopub.execute_input": "2022-05-09T06:12:24.127754Z",
     "iopub.status.busy": "2022-05-09T06:12:24.127401Z",
     "iopub.status.idle": "2022-05-09T06:12:24.135996Z",
     "shell.execute_reply": "2022-05-09T06:12:24.135376Z"
    },
    "papermill": {
     "duration": 0.058963,
     "end_time": "2022-05-09T06:12:24.138456",
     "exception": false,
     "start_time": "2022-05-09T06:12:24.079493",
     "status": "completed"
    },
    "tags": []
   },
   "outputs": [
    {
     "data": {
      "text/plain": [
       "(75000,)"
      ]
     },
     "execution_count": 9,
     "metadata": {},
     "output_type": "execute_result"
    }
   ],
   "source": [
    "y.shape"
   ]
  },
  {
   "cell_type": "code",
   "execution_count": 10,
   "id": "b31ae4e2",
   "metadata": {
    "execution": {
     "iopub.execute_input": "2022-05-09T06:12:24.234756Z",
     "iopub.status.busy": "2022-05-09T06:12:24.234549Z",
     "iopub.status.idle": "2022-05-09T06:12:39.120370Z",
     "shell.execute_reply": "2022-05-09T06:12:39.119731Z"
    },
    "papermill": {
     "duration": 14.934397,
     "end_time": "2022-05-09T06:12:39.122309",
     "exception": false,
     "start_time": "2022-05-09T06:12:24.187912",
     "status": "completed"
    },
    "tags": []
   },
   "outputs": [
    {
     "name": "stderr",
     "output_type": "stream",
     "text": [
      "[flaml.automl: 05-09 06:12:24] {2105} INFO - task = classification\n",
      "[flaml.automl: 05-09 06:12:24] {2107} INFO - Data split method: stratified\n",
      "[flaml.automl: 05-09 06:12:24] {2111} INFO - Evaluation method: holdout\n",
      "[flaml.automl: 05-09 06:12:24] {2188} INFO - Minimizing error metric: 1-accuracy\n",
      "[flaml.automl: 05-09 06:12:24] {2281} INFO - List of ML learners in AutoML Run: ['lgbm', 'rf', 'catboost', 'xgboost', 'extra_tree', 'xgb_limitdepth', 'lrl1']\n",
      "[flaml.automl: 05-09 06:12:24] {2567} INFO - iteration 0, current learner lgbm\n",
      "[flaml.automl: 05-09 06:12:24] {2698} INFO - Estimated sufficient time budget=15755s. Estimated necessary time budget=387s.\n",
      "[flaml.automl: 05-09 06:12:24] {2750} INFO -  at 0.6s,\testimator lgbm's best error=0.0110,\tbest estimator lgbm's best error=0.0110\n",
      "[flaml.automl: 05-09 06:12:24] {2567} INFO - iteration 1, current learner lgbm\n",
      "[flaml.automl: 05-09 06:12:25] {2750} INFO -  at 0.9s,\testimator lgbm's best error=0.0110,\tbest estimator lgbm's best error=0.0110\n",
      "[flaml.automl: 05-09 06:12:25] {2567} INFO - iteration 2, current learner lgbm\n",
      "[flaml.automl: 05-09 06:12:25] {2750} INFO -  at 1.1s,\testimator lgbm's best error=0.0073,\tbest estimator lgbm's best error=0.0073\n",
      "[flaml.automl: 05-09 06:12:25] {2567} INFO - iteration 3, current learner lgbm\n",
      "[flaml.automl: 05-09 06:12:25] {2750} INFO -  at 1.5s,\testimator lgbm's best error=0.0034,\tbest estimator lgbm's best error=0.0034\n",
      "[flaml.automl: 05-09 06:12:25] {2567} INFO - iteration 4, current learner lgbm\n",
      "[flaml.automl: 05-09 06:12:26] {2750} INFO -  at 1.9s,\testimator lgbm's best error=0.0034,\tbest estimator lgbm's best error=0.0034\n",
      "[flaml.automl: 05-09 06:12:26] {2567} INFO - iteration 5, current learner lgbm\n",
      "[flaml.automl: 05-09 06:12:26] {2750} INFO -  at 2.4s,\testimator lgbm's best error=0.0034,\tbest estimator lgbm's best error=0.0034\n",
      "[flaml.automl: 05-09 06:12:26] {2567} INFO - iteration 6, current learner xgboost\n",
      "[flaml.automl: 05-09 06:12:27] {2750} INFO -  at 2.8s,\testimator xgboost's best error=0.0137,\tbest estimator lgbm's best error=0.0034\n",
      "[flaml.automl: 05-09 06:12:27] {2567} INFO - iteration 7, current learner lgbm\n",
      "[flaml.automl: 05-09 06:12:27] {2750} INFO -  at 3.1s,\testimator lgbm's best error=0.0034,\tbest estimator lgbm's best error=0.0034\n",
      "[flaml.automl: 05-09 06:12:27] {2567} INFO - iteration 8, current learner lgbm\n",
      "[flaml.automl: 05-09 06:12:27] {2750} INFO -  at 3.6s,\testimator lgbm's best error=0.0028,\tbest estimator lgbm's best error=0.0028\n",
      "[flaml.automl: 05-09 06:12:27] {2567} INFO - iteration 9, current learner xgboost\n",
      "[flaml.automl: 05-09 06:12:28] {2750} INFO -  at 4.0s,\testimator xgboost's best error=0.0137,\tbest estimator lgbm's best error=0.0028\n",
      "[flaml.automl: 05-09 06:12:28] {2567} INFO - iteration 10, current learner extra_tree\n",
      "[flaml.automl: 05-09 06:12:28] {2750} INFO -  at 4.3s,\testimator extra_tree's best error=0.0933,\tbest estimator lgbm's best error=0.0028\n",
      "[flaml.automl: 05-09 06:12:28] {2567} INFO - iteration 11, current learner rf\n",
      "[flaml.automl: 05-09 06:12:29] {2750} INFO -  at 4.7s,\testimator rf's best error=0.0544,\tbest estimator lgbm's best error=0.0028\n",
      "[flaml.automl: 05-09 06:12:29] {2567} INFO - iteration 12, current learner rf\n",
      "[flaml.automl: 05-09 06:12:29] {2750} INFO -  at 5.1s,\testimator rf's best error=0.0055,\tbest estimator lgbm's best error=0.0028\n",
      "[flaml.automl: 05-09 06:12:29] {2567} INFO - iteration 13, current learner rf\n",
      "[flaml.automl: 05-09 06:12:29] {2750} INFO -  at 5.4s,\testimator rf's best error=0.0055,\tbest estimator lgbm's best error=0.0028\n",
      "[flaml.automl: 05-09 06:12:29] {2567} INFO - iteration 14, current learner rf\n",
      "[flaml.automl: 05-09 06:12:30] {2750} INFO -  at 5.8s,\testimator rf's best error=0.0055,\tbest estimator lgbm's best error=0.0028\n",
      "[flaml.automl: 05-09 06:12:30] {2567} INFO - iteration 15, current learner extra_tree\n",
      "[flaml.automl: 05-09 06:12:30] {2750} INFO -  at 6.1s,\testimator extra_tree's best error=0.0190,\tbest estimator lgbm's best error=0.0028\n",
      "[flaml.automl: 05-09 06:12:30] {2567} INFO - iteration 16, current learner rf\n",
      "[flaml.automl: 05-09 06:12:30] {2750} INFO -  at 6.5s,\testimator rf's best error=0.0055,\tbest estimator lgbm's best error=0.0028\n",
      "[flaml.automl: 05-09 06:12:30] {2567} INFO - iteration 17, current learner extra_tree\n",
      "[flaml.automl: 05-09 06:12:31] {2750} INFO -  at 6.9s,\testimator extra_tree's best error=0.0190,\tbest estimator lgbm's best error=0.0028\n",
      "[flaml.automl: 05-09 06:12:31] {2567} INFO - iteration 18, current learner lgbm\n",
      "[flaml.automl: 05-09 06:12:31] {2750} INFO -  at 7.1s,\testimator lgbm's best error=0.0028,\tbest estimator lgbm's best error=0.0028\n",
      "[flaml.automl: 05-09 06:12:31] {2567} INFO - iteration 19, current learner extra_tree\n",
      "[flaml.automl: 05-09 06:12:31] {2750} INFO -  at 7.4s,\testimator extra_tree's best error=0.0190,\tbest estimator lgbm's best error=0.0028\n",
      "[flaml.automl: 05-09 06:12:31] {2567} INFO - iteration 20, current learner xgboost\n",
      "[flaml.automl: 05-09 06:12:32] {2750} INFO -  at 7.7s,\testimator xgboost's best error=0.0137,\tbest estimator lgbm's best error=0.0028\n",
      "[flaml.automl: 05-09 06:12:32] {2567} INFO - iteration 21, current learner xgboost\n",
      "[flaml.automl: 05-09 06:12:32] {2750} INFO -  at 8.1s,\testimator xgboost's best error=0.0137,\tbest estimator lgbm's best error=0.0028\n",
      "[flaml.automl: 05-09 06:12:32] {2567} INFO - iteration 22, current learner lgbm\n",
      "[flaml.automl: 05-09 06:12:33] {2750} INFO -  at 8.8s,\testimator lgbm's best error=0.0028,\tbest estimator lgbm's best error=0.0028\n",
      "[flaml.automl: 05-09 06:12:33] {2567} INFO - iteration 23, current learner rf\n",
      "[flaml.automl: 05-09 06:12:33] {2750} INFO -  at 9.1s,\testimator rf's best error=0.0055,\tbest estimator lgbm's best error=0.0028\n",
      "[flaml.automl: 05-09 06:12:33] {2567} INFO - iteration 24, current learner extra_tree\n",
      "[flaml.automl: 05-09 06:12:33] {2750} INFO -  at 9.2s,\testimator extra_tree's best error=0.0190,\tbest estimator lgbm's best error=0.0028\n",
      "[flaml.automl: 05-09 06:12:33] {2567} INFO - iteration 25, current learner extra_tree\n",
      "[flaml.automl: 05-09 06:12:33] {2750} INFO -  at 9.3s,\testimator extra_tree's best error=0.0190,\tbest estimator lgbm's best error=0.0028\n",
      "[flaml.automl: 05-09 06:12:33] {2567} INFO - iteration 26, current learner rf\n",
      "[flaml.automl: 05-09 06:12:34] {2750} INFO -  at 10.3s,\testimator rf's best error=0.0055,\tbest estimator lgbm's best error=0.0028\n",
      "[flaml.automl: 05-09 06:12:39] {2976} INFO - retrain lgbm for 4.5s\n",
      "[flaml.automl: 05-09 06:12:39] {2981} INFO - retrained model: LGBMClassifier(colsample_bytree=0.8591464191448509,\n",
      "               learning_rate=0.40106881032023267, max_bin=1023,\n",
      "               min_child_samples=7, n_estimators=46, num_leaves=4,\n",
      "               reg_alpha=0.0009765625, reg_lambda=0.14586454205299842,\n",
      "               verbose=-1)\n",
      "[flaml.automl: 05-09 06:12:39] {2310} INFO - fit succeeded\n",
      "[flaml.automl: 05-09 06:12:39] {2312} INFO - Time taken to find the best model: 3.5631415843963623\n"
     ]
    }
   ],
   "source": [
    "X_train, X_test, y_train, y_test = train_test_split(X, y, random_state=2022)\n",
    "\n",
    "model = AutoML()\n",
    "model.fit(X_train, y_train, metric='accuracy', task='classification', time_budget=10)"
   ]
  },
  {
   "cell_type": "code",
   "execution_count": 11,
   "id": "eccae77a",
   "metadata": {
    "execution": {
     "iopub.execute_input": "2022-05-09T06:12:39.386382Z",
     "iopub.status.busy": "2022-05-09T06:12:39.386038Z",
     "iopub.status.idle": "2022-05-09T06:12:39.395991Z",
     "shell.execute_reply": "2022-05-09T06:12:39.394967Z"
    },
    "papermill": {
     "duration": 0.14801,
     "end_time": "2022-05-09T06:12:39.398296",
     "exception": false,
     "start_time": "2022-05-09T06:12:39.250286",
     "status": "completed"
    },
    "tags": []
   },
   "outputs": [
    {
     "name": "stdout",
     "output_type": "stream",
     "text": [
      "Best ML Model:  lgbm\n",
      "Best hyperparmeter config:  {'n_estimators': 46, 'num_leaves': 4, 'min_child_samples': 7, 'learning_rate': 0.40106881032023267, 'log_max_bin': 10, 'colsample_bytree': 0.8591464191448509, 'reg_alpha': 0.0009765625, 'reg_lambda': 0.14586454205299842, 'FLAML_sample_size': 10000}\n",
      "Best accuracy on validation data: 0.997158\n",
      "Training duration of best run: 4.507026 s\n"
     ]
    }
   ],
   "source": [
    "print('Best ML Model: ', model.best_estimator)\n",
    "print('Best hyperparmeter config: ', model.best_config)\n",
    "print('Best accuracy on validation data: %f' %(1 - model.best_loss))\n",
    "print('Training duration of best run: %f s'%(model.best_config_train_time))"
   ]
  },
  {
   "cell_type": "code",
   "execution_count": 12,
   "id": "f886f26a",
   "metadata": {
    "execution": {
     "iopub.execute_input": "2022-05-09T06:12:39.616178Z",
     "iopub.status.busy": "2022-05-09T06:12:39.615838Z",
     "iopub.status.idle": "2022-05-09T06:13:25.586175Z",
     "shell.execute_reply": "2022-05-09T06:13:25.585237Z"
    },
    "papermill": {
     "duration": 46.082702,
     "end_time": "2022-05-09T06:13:25.588526",
     "exception": false,
     "start_time": "2022-05-09T06:12:39.505824",
     "status": "completed"
    },
    "tags": []
   },
   "outputs": [
    {
     "name": "stderr",
     "output_type": "stream",
     "text": [
      "2022-05-09 06:12:39.992290: I tensorflow/stream_executor/cuda/cuda_gpu_executor.cc:937] successful NUMA node read from SysFS had negative value (-1), but there must be at least one NUMA node, so returning NUMA node zero\n",
      "2022-05-09 06:12:39.997229: I tensorflow/stream_executor/cuda/cuda_gpu_executor.cc:937] successful NUMA node read from SysFS had negative value (-1), but there must be at least one NUMA node, so returning NUMA node zero\n",
      "2022-05-09 06:12:39.998001: I tensorflow/stream_executor/cuda/cuda_gpu_executor.cc:937] successful NUMA node read from SysFS had negative value (-1), but there must be at least one NUMA node, so returning NUMA node zero\n",
      "2022-05-09 06:12:39.999472: I tensorflow/core/platform/cpu_feature_guard.cc:142] This TensorFlow binary is optimized with oneAPI Deep Neural Network Library (oneDNN) to use the following CPU instructions in performance-critical operations:  AVX2 AVX512F FMA\n",
      "To enable them in other operations, rebuild TensorFlow with the appropriate compiler flags.\n",
      "2022-05-09 06:12:39.999753: I tensorflow/stream_executor/cuda/cuda_gpu_executor.cc:937] successful NUMA node read from SysFS had negative value (-1), but there must be at least one NUMA node, so returning NUMA node zero\n",
      "2022-05-09 06:12:40.000493: I tensorflow/stream_executor/cuda/cuda_gpu_executor.cc:937] successful NUMA node read from SysFS had negative value (-1), but there must be at least one NUMA node, so returning NUMA node zero\n",
      "2022-05-09 06:12:40.001166: I tensorflow/stream_executor/cuda/cuda_gpu_executor.cc:937] successful NUMA node read from SysFS had negative value (-1), but there must be at least one NUMA node, so returning NUMA node zero\n",
      "2022-05-09 06:12:43.579533: I tensorflow/stream_executor/cuda/cuda_gpu_executor.cc:937] successful NUMA node read from SysFS had negative value (-1), but there must be at least one NUMA node, so returning NUMA node zero\n",
      "2022-05-09 06:12:43.580439: I tensorflow/stream_executor/cuda/cuda_gpu_executor.cc:937] successful NUMA node read from SysFS had negative value (-1), but there must be at least one NUMA node, so returning NUMA node zero\n",
      "2022-05-09 06:12:43.581120: I tensorflow/stream_executor/cuda/cuda_gpu_executor.cc:937] successful NUMA node read from SysFS had negative value (-1), but there must be at least one NUMA node, so returning NUMA node zero\n",
      "2022-05-09 06:12:43.582501: I tensorflow/core/common_runtime/gpu/gpu_device.cc:1510] Created device /job:localhost/replica:0/task:0/device:GPU:0 with 15187 MB memory:  -> device: 0, name: Tesla P100-PCIE-16GB, pci bus id: 0000:00:04.0, compute capability: 6.0\n",
      "2022-05-09 06:12:44.027404: I tensorflow/compiler/mlir/mlir_graph_optimization_pass.cc:185] None of the MLIR Optimization Passes are enabled (registered 2)\n"
     ]
    },
    {
     "name": "stdout",
     "output_type": "stream",
     "text": [
      "Epoch 1/20\n",
      "411/411 [==============================] - 3s 4ms/step - loss: 0.0975 - sparse_categorical_accuracy: 0.9863 - val_loss: 0.0283 - val_sparse_categorical_accuracy: 0.9981\n",
      "Epoch 2/20\n",
      "411/411 [==============================] - 1s 3ms/step - loss: 0.0229 - sparse_categorical_accuracy: 0.9967 - val_loss: 0.0127 - val_sparse_categorical_accuracy: 0.9987\n",
      "Epoch 3/20\n",
      "411/411 [==============================] - 1s 3ms/step - loss: 0.0148 - sparse_categorical_accuracy: 0.9976 - val_loss: 0.0098 - val_sparse_categorical_accuracy: 0.9989\n",
      "Epoch 4/20\n",
      "411/411 [==============================] - 1s 4ms/step - loss: 0.0125 - sparse_categorical_accuracy: 0.9977 - val_loss: 0.0092 - val_sparse_categorical_accuracy: 0.9985\n",
      "Epoch 5/20\n",
      "411/411 [==============================] - 1s 3ms/step - loss: 0.0113 - sparse_categorical_accuracy: 0.9978 - val_loss: 0.0077 - val_sparse_categorical_accuracy: 0.9988\n",
      "Epoch 6/20\n",
      "411/411 [==============================] - 1s 3ms/step - loss: 0.0096 - sparse_categorical_accuracy: 0.9979 - val_loss: 0.0077 - val_sparse_categorical_accuracy: 0.9985\n",
      "Epoch 7/20\n",
      "411/411 [==============================] - 1s 3ms/step - loss: 0.0086 - sparse_categorical_accuracy: 0.9984 - val_loss: 0.0077 - val_sparse_categorical_accuracy: 0.9986\n",
      "Epoch 8/20\n",
      "411/411 [==============================] - 1s 3ms/step - loss: 0.0092 - sparse_categorical_accuracy: 0.9981 - val_loss: 0.0074 - val_sparse_categorical_accuracy: 0.9986\n",
      "Epoch 9/20\n",
      "411/411 [==============================] - 1s 3ms/step - loss: 0.0076 - sparse_categorical_accuracy: 0.9985 - val_loss: 0.0083 - val_sparse_categorical_accuracy: 0.9983\n",
      "Epoch 10/20\n",
      "411/411 [==============================] - 1s 3ms/step - loss: 0.0079 - sparse_categorical_accuracy: 0.9982 - val_loss: 0.0060 - val_sparse_categorical_accuracy: 0.9991\n",
      "Epoch 11/20\n",
      "411/411 [==============================] - 1s 3ms/step - loss: 0.0083 - sparse_categorical_accuracy: 0.9982 - val_loss: 0.0062 - val_sparse_categorical_accuracy: 0.9990\n",
      "Epoch 12/20\n",
      "411/411 [==============================] - 1s 3ms/step - loss: 0.0077 - sparse_categorical_accuracy: 0.9981 - val_loss: 0.0066 - val_sparse_categorical_accuracy: 0.9984\n",
      "Epoch 13/20\n",
      "411/411 [==============================] - 2s 4ms/step - loss: 0.0073 - sparse_categorical_accuracy: 0.9983 - val_loss: 0.0055 - val_sparse_categorical_accuracy: 0.9991\n",
      "Epoch 14/20\n",
      "411/411 [==============================] - 1s 3ms/step - loss: 0.0069 - sparse_categorical_accuracy: 0.9984 - val_loss: 0.0065 - val_sparse_categorical_accuracy: 0.9988\n",
      "Epoch 15/20\n",
      "411/411 [==============================] - 1s 3ms/step - loss: 0.0067 - sparse_categorical_accuracy: 0.9984 - val_loss: 0.0060 - val_sparse_categorical_accuracy: 0.9990\n",
      "Epoch 16/20\n",
      "411/411 [==============================] - 2s 4ms/step - loss: 0.0061 - sparse_categorical_accuracy: 0.9986 - val_loss: 0.0066 - val_sparse_categorical_accuracy: 0.9986\n",
      "Epoch 17/20\n",
      "411/411 [==============================] - 1s 3ms/step - loss: 0.0078 - sparse_categorical_accuracy: 0.9985 - val_loss: 0.0053 - val_sparse_categorical_accuracy: 0.9992\n",
      "Epoch 18/20\n",
      "411/411 [==============================] - 1s 3ms/step - loss: 0.0058 - sparse_categorical_accuracy: 0.9987 - val_loss: 0.0052 - val_sparse_categorical_accuracy: 0.9992\n",
      "Epoch 19/20\n",
      "411/411 [==============================] - 1s 3ms/step - loss: 0.0067 - sparse_categorical_accuracy: 0.9986 - val_loss: 0.0069 - val_sparse_categorical_accuracy: 0.9988\n",
      "Epoch 20/20\n",
      "411/411 [==============================] - 1s 3ms/step - loss: 0.0067 - sparse_categorical_accuracy: 0.9985 - val_loss: 0.0054 - val_sparse_categorical_accuracy: 0.9992\n",
      "Model: \"rice_model\"\n",
      "_________________________________________________________________\n",
      "Layer (type)                 Output Shape              Param #   \n",
      "=================================================================\n",
      "batch_normalization (BatchNo multiple                  424       \n",
      "_________________________________________________________________\n",
      "dense (Dense)                multiple                  13696     \n",
      "_________________________________________________________________\n",
      "dropout (Dropout)            multiple                  0         \n",
      "_________________________________________________________________\n",
      "dense_1 (Dense)              multiple                  33024     \n",
      "_________________________________________________________________\n",
      "dropout_1 (Dropout)          multiple                  0         \n",
      "_________________________________________________________________\n",
      "dense_2 (Dense)              multiple                  1285      \n",
      "=================================================================\n",
      "Total params: 48,429\n",
      "Trainable params: 48,217\n",
      "Non-trainable params: 212\n",
      "_________________________________________________________________\n"
     ]
    }
   ],
   "source": [
    "class RiceModel(tf.keras.Model):\n",
    "    def __init__(self):\n",
    "        super(RiceModel, self).__init__()\n",
    "        self.B1 = BatchNormalization()\n",
    "        self.D1 = Dense(128, activation='relu')\n",
    "        self.Dr1 = Dropout(0.2)\n",
    "        self.D2 = Dense(256, activation='relu')\n",
    "        self.Dr2 = Dropout(0.2)\n",
    "        self.D3 = Dense(5, activation='softmax', kernel_regularizer=tf.keras.regularizers.l2())\n",
    "        \n",
    "    def call(self, x):\n",
    "        x = self.B1(x)\n",
    "        x = self.D1(x)\n",
    "        x = self.Dr1(x)\n",
    "        x = self.D2(x)\n",
    "        x = self.Dr2(x)\n",
    "        y = self.D3(x)\n",
    "        \n",
    "        return y\n",
    "    \n",
    "model = RiceModel()\n",
    "\n",
    "model.compile(optimizer='adam', loss=tf.keras.losses.SparseCategoricalCrossentropy(from_logits=False),\n",
    "             metrics=['sparse_categorical_accuracy'])\n",
    "\n",
    "history = model.fit(X, y, batch_size=128, epochs=20, validation_split=0.3, validation_freq=1)\n",
    "\n",
    "model.summary()"
   ]
  },
  {
   "cell_type": "code",
   "execution_count": 13,
   "id": "261396dc",
   "metadata": {
    "execution": {
     "iopub.execute_input": "2022-05-09T06:13:25.986384Z",
     "iopub.status.busy": "2022-05-09T06:13:25.985645Z",
     "iopub.status.idle": "2022-05-09T06:13:26.350459Z",
     "shell.execute_reply": "2022-05-09T06:13:26.349754Z"
    },
    "papermill": {
     "duration": 0.568997,
     "end_time": "2022-05-09T06:13:26.352722",
     "exception": false,
     "start_time": "2022-05-09T06:13:25.783725",
     "status": "completed"
    },
    "tags": []
   },
   "outputs": [
    {
     "data": {
      "image/png": "[encoded data removed]",
      "text/plain": [
       "<Figure size 1152x576 with 2 Axes>"
      ]
     },
     "metadata": {
      "needs_background": "light"
     },
     "output_type": "display_data"
    }
   ],
   "source": [
    "acc = history.history['sparse_categorical_accuracy']\n",
    "val_acc = history.history['val_sparse_categorical_accuracy']\n",
    "loss = history.history['loss']\n",
    "val_loss = history.history['val_loss']\n",
    "\n",
    "plt.figure(figsize=(16, 8))\n",
    "plt.subplot(1, 2, 1)\n",
    "plt.plot(acc, label='Training Acc')\n",
    "plt.plot(val_acc, label='Validation Acc')\n",
    "plt.title('Training And Validation Acc')\n",
    "plt.legend()\n",
    "\n",
    "plt.subplot(1, 2, 2)\n",
    "plt.plot(loss, label='Training Loss')\n",
    "plt.plot(val_loss, label='Validation Loss')\n",
    "plt.title('Training And Validation Loss')\n",
    "\n",
    "plt.legend()\n",
    "plt.show()"
   ]
  },
  {
   "cell_type": "code",
   "execution_count": null,
   "id": "83eb5632",
   "metadata": {
    "papermill": {
     "duration": 0.195341,
     "end_time": "2022-05-09T06:13:26.745274",
     "exception": false,
     "start_time": "2022-05-09T06:13:26.549933",
     "status": "completed"
    },
    "tags": []
   },
   "outputs": [],
   "source": []
  }
 ],
 "metadata": {
  "kernelspec": {
   "display_name": "Python 3",
   "language": "python",
   "name": "python3"
  },
  "language_info": {
   "codemirror_mode": {
    "name": "ipython",
    "version": 3
   },
   "file_extension": ".py",
   "mimetype": "text/x-python",
   "name": "python",
   "nbconvert_exporter": "python",
   "pygments_lexer": "ipython3",
   "version": "3.7.12"
  },
  "papermill": {
   "default_parameters": {},
   "duration": 315.519876,
   "end_time": "2022-05-09T06:13:32.000270",
   "environment_variables": {},
   "exception": null,
   "input_path": "__notebook__.ipynb",
   "output_path": "__notebook__.ipynb",
   "parameters": {},
   "start_time": "2022-05-09T06:08:16.480394",
   "version": "2.3.4"
  }
 },
 "nbformat": 4,
 "nbformat_minor": 5
}
